{
 "cells": [
  {
   "cell_type": "markdown",
   "metadata": {
    "colab_type": "text",
    "id": "i_f5u2x9nn6I",
    "slideshow": {
     "slide_type": "slide"
    },
    "title": "Lecture 1: Introduction to Machine Learning"
   },
   "source": [
    "# **Lecture 1: Introduction to Machine Learning**\n",
    "<!-- <p style=\"font-size: 26pt; font-weight: bold;\">Lecture 1: Introduction to Machine Learning</p> -->\n"
   ]
  },
  {
   "cell_type": "markdown",
   "metadata": {
    "slideshow": {
     "slide_type": "slide"
    }
   },
   "source": [
    "\n",
    "Welcome to Applied Machine Learning---an open online version of CS 5785, a course taught at Cornell University and Cornell Tech.\n",
    "\n",
    "<!-- In this course, you will learn what machine learning is, what are the most important techniques in machine learning, and how to apply them to solve real world problems. -->\n",
    "\n",
    "Our goal for this first lecture will be provide an overview of the course, and work towards a first definition of machine learning. In the final part of the lecture, we will cover important logistical details that you should know when taking the course."
   ]
  },
  {
   "cell_type": "markdown",
   "metadata": {
    "slideshow": {
     "slide_type": "slide"
    }
   },
   "source": [
    "# 1.1. What is Machine Learning?\n",
    "\n",
    "Below are three snippets from the press that pertain to machine learning (ML) and the related field of artificial intelligence (AI).\n",
    "\n",
    "<!-- Below are three snippets from the press that illustrate three ways in machine learning (ML) and the related field of artificial intelligence (AI) have had a significant impact on the world. -->\n",
    "\n",
    "<table><tr>\n",
    "    <td><center><img width=90% src=\"https://kuleshov-group.github.io/aml-resources/img/alphago.jpeg\"/></center></td>\n",
    "    <td><center><img src=\"https://kuleshov-group.github.io/aml-resources/img/obama2.jpg\"/></center></td>    \n",
    "    <td><center><img width=80% src=\"https://raw.githubusercontent.com/kuleshov-group/aml-resources/d19732ee549b5c48ac215016c218ecad6a9107e3/img/chatgpt.png\"></center></td>    \n",
    "</tr></table>    \n",
    "\n",
    "* The image on the left is from the cover of the journal Nature. It is meant to illustrate that ML is fundamentally a field of science. In recent years, this field has seen rapid advances, such as this famous 2016 breakthrough from Google Deepmind, in which an ML-based system called [AlphaGo](https://www.nature.com/articles/nature16961) became the world champion at the game of Go---a feat that was previously thought to be decades away. \n",
    "* In the middle, we see a [interview](https://www.wired.com/2016/10/president-obama-mit-joi-ito-interview/) by Wired magazine with Barack Obama on ML and AI. Obama discusses the impact of AI on topics like unemployment and inequality. It is meant to illustrate that ML is not only a scientific endeavor, but also a field that is having a profound impact on society and policy.\n",
    "* Our third snippet is the [blog post](https://openai.com/blog/chatgpt) announcing [ChatGPT](https://chat.openai.com/), and is meant to show that AI is not just science and policy, but also enables the creation of useful tools. Assistants like ChatGPT will have an increasingly large impact on the automation of various aspects of work and of our daily lives."
   ]
  },
  {
   "cell_type": "markdown",
   "metadata": {
    "slideshow": {
     "slide_type": "slide"
    }
   },
   "source": [
    "## 1.1.1. Examples of ML in Everyday Life\n",
    "\n",
    "While ChatGPT is a particularly prominent example of a system powered by machine learning, there exist many other ways in which machine learning is deployed around us. In fact, you may have interacted with ML-based systems today without even realizing it. \n",
    "\n",
    "Let's look at a few examples and gradually work our way towards a precise definition of machine learning.\n",
    "\n",
    "### Search Engines\n",
    "\n",
    "<!-- If you used a search engine to find these course notes, you almost certainly relied on ML algorithms to find the information you were looking for. -->\n",
    "\n",
    "Machine learning is used in search engines to parse queries and determine their intent. Another set of ML algorithms is then used to retrieve the information relevant to a query before outputting that information as part of the search results.\n",
    "\n",
    "<center><img src=\"https://kuleshov-group.github.io/aml-resources/img/google.png\"/></center>\n"
   ]
  },
  {
   "cell_type": "markdown",
   "metadata": {
    "slideshow": {
     "slide_type": "slide"
    }
   },
   "source": [
    "### Personal Assistants\n",
    "\n",
    "Smartphones with personal assistants like Apple Siri or Google Assistant also rely heavily on machine learning.\n",
    "\n",
    "<table><tr>\n",
    "    <td><center><img src=\"https://kuleshov-group.github.io/aml-resources/img/siri.png\"/></center></td>\n",
    "    <td><center><img src=\"https://kuleshov-group.github.io/aml-resources/img/google_assistant.png\"/></center></td>\n",
    "</tr></table>    \n",
    "\n",
    "The assistant software uses speech recognition algorithms powered by ML to transform the sound of your voice into a sequence of characters or words. It then uses a different set of ML algorithms to infer the intent of your command as well as to perform the processing needed to compute the correct response (in the above example, finding images from Thailand)."
   ]
  },
  {
   "cell_type": "markdown",
   "metadata": {
    "slideshow": {
     "slide_type": "slide"
    }
   },
   "source": [
    "### Spam and Fraud Detection\n",
    "\n",
    "Machine learning helps keep your inbox clean and spam-free. Email software uses classification algorithms to identify spam and non-spam email.\n",
    "\n",
    "<br>\n",
    "<center><img src=\"https://kuleshov-group.github.io/aml-resources/img/spam.png\"/></center>\n",
    "\n",
    "More generally, financial companies rely on ML to flag potentially fraudulent transactions. Machine learning is one reason for why your credit card account is relatively safe from fraud!"
   ]
  },
  {
   "cell_type": "markdown",
   "metadata": {
    "slideshow": {
     "slide_type": "slide"
    }
   },
   "source": [
    "#### Autonomous Vehicles\n",
    "\n",
    "Our final example is farther out in the future than the others. Most autonomous vehicles under development today rely on various forms of machine learning to detect objects on the road, read signs, and to plan their movements.\n",
    "\n",
    "<center><img width=\"80%\" src=\"https://kuleshov-group.github.io/aml-resources/img/waymo.jpg\"/></center>\n",
    "\n",
    "When widely deployed, autonomous vehicles have the potential to transform transportation by reducing its cost and giving access to personal mobility to persons who would otherwise not be able to operate a vehicle (e.g., the blind)."
   ]
  },
  {
   "cell_type": "markdown",
   "metadata": {
    "slideshow": {
     "slide_type": "slide"
    }
   },
   "source": [
    "## 1.1.2. A Definition of Machine Learning\n",
    "\n",
    "We have seen a few examples of what machine learning is. Let's now try to define it formally. We will start with the following definition, first proposed by Arthur Samuel in 1959.\n",
    "\n",
    "> Machine learning is a field of study that gives computers the ability to learn without being explicitly programmed.\n",
    "\n",
    "This definition is used in numerous courses and textbooks. At first, it might be hard to grasp what Samuel means by terms like \"learn\" and \"explicitly programmed\". Let's look at one final example to clarify this."
   ]
  },
  {
   "cell_type": "markdown",
   "metadata": {
    "slideshow": {
     "slide_type": "slide"
    }
   },
   "source": [
    "### Self Driving Cars: A Rules-Based System\n",
    "\n",
    "We return to our previous example: autonomous vehicles. A self-driving car uses dozens of components based on machine learning. One such component is object detection: given input from the car's sensors, we want to automatically identify cars, cyclists, pedestrians, and other objects on the road.\n",
    "<br>\n",
    "<center><img width=80% src=\"https://kuleshov-group.github.io/aml-resources/img/tesla.jpg\"/></center>"
   ]
  },
  {
   "cell_type": "markdown",
   "metadata": {
    "slideshow": {
     "slide_type": "slide"
    }
   },
   "source": [
    "How might we build an object detection systems for a car? The classical programming approach is to write down a set of rules.\n",
    "\n",
    "<center><img width=75% src=\"https://kuleshov-group.github.io/aml-resources/img/tesla_zoom.jpg\"/></center>\n",
    "\n",
    "<!-- <table style=\"border: 1px\"><tr>\n",
    "    <td><left>One way to build a detection system is to write down rules.</left></td>\n",
    "    <td><img src=\"img/tesla_zoom.jpg\"/></td>\n",
    "</tr></table> -->\n",
    "\n",
    "For example, if we see an object with two wheels, then it is likely to be a bicycle. We can incorporate this logic as one of the rules implemented by our system.\n",
    "\n",
    "However, in the above image, some cars are seen by the camera from the back. In such cases, cars also appear to have two wheels! In a rules-based system, we need to write an exception to our earlier rule to handle objects seen from the back. Below is pseudocode that tries to implement this idea."
   ]
  },
  {
   "cell_type": "code",
   "execution_count": 2,
   "metadata": {
    "slideshow": {
     "slide_type": "fragment"
    }
   },
   "outputs": [],
   "source": [
    "# pseudocode example for a rule-based classification system\n",
    "object = camera.get_object() # assumes we have a \"camera\" API\n",
    "if object.has_wheels(): # does the object have wheels?\n",
    "    if len(object.wheels) == 4: return \"Car\" # four wheels => car    \n",
    "    elif len(object.wheels) == 2:,\n",
    "        if object.seen_from_back():\n",
    "            return \"Car\" # viewed from back, car has 2 wheels\n",
    "        else:\n",
    "            return \"Bicycle\" # normally, 2 wheels => bicycle\n",
    "return \"Unknown\" # no wheels? we don't know what it is"
   ]
  },
  {
   "cell_type": "markdown",
   "metadata": {
    "slideshow": {
     "slide_type": "fragment"
    }
   },
   "source": [
    "You can probably see that this approach doesn't scale. Even in this very simple example, we have run into edge cases that simple rules cannot handle. Imagine now how many edge cases we would encounter if we tried to build a rules-based system for all the possible environments that a self-driving car might encounter.\n",
    "\n",
    "Clearly, it is almost impossible for a human to specify rules for all the scenarios that can arise in autonomous driving. The rules-based solution does not scale."
   ]
  },
  {
   "cell_type": "markdown",
   "metadata": {
    "slideshow": {
     "slide_type": "slide"
    }
   },
   "source": [
    "### Self Driving Cars: An ML-Based System\n",
    "\n",
    "Machine learning is an alternative approach to building software systems that instead tries to *teach* a computer\n",
    "how to perform tasks by providing it examples of desired behavior.\n",
    "\n",
    "In this example, we might collect a large dataset of labeled objects on the road. We then feed this dataset to a short meta-algorithm through which the computer automatically learns what a cyclist or a car look like. It then uses this knowledge to detect new objects on the road.\n",
    "\n",
    "<center><img src=\"https://kuleshov-group.github.io/aml-resources/img/tesla_data.png\"/></center>\n",
    "\n",
    "This approach is much more scalable: we no longer need to directly specify the correct behavior for every possible image frame---the computer learns the desired behavior from data. \n",
    "<!-- This approach turns out to one of the only ways of building a complex algorithm like an object detector. -->"
   ]
  },
  {
   "cell_type": "markdown",
   "metadata": {
    "slideshow": {
     "slide_type": "slide"
    }
   },
   "source": [
    "#### Revisiting Our Definition of ML\n",
    "\n",
    "This example should now help us better understand the definition proposed by Arthur Samuel.\n",
    "\n",
    "<!-- > Machine learning is a field of study that gives computers the ability to learn without being explicitly programmed. (Arthur Samuel, 1959.) -->\n",
    "\n",
    "Machine learning is a way of building software systems without explicitly programming their behavior: instead computers can learn to perform the desired behavior on their own from a small number of examples. This principle can be applied to countless domains:\n",
    "medical diagnosis, factory automation, machine translation, and many others."
   ]
  },
  {
   "cell_type": "markdown",
   "metadata": {
    "slideshow": {
     "slide_type": "slide"
    }
   },
   "source": [
    "## 1.1.3. Why Machine Learning?\n",
    "\n",
    "We end this part of the lecture with some final thoughts on the reasons on why you should study machine learning."
   ]
  },
  {
   "cell_type": "markdown",
   "metadata": {
    "slideshow": {
     "slide_type": "fragment"
    }
   },
   "source": [
    "* First, machine learning is the only way of building certain kinds of software. Object detection is one example, but machine learning also produces the best performing systems for a wide range of tasks such as machine translation, speech recognition, image classification, and many others."
   ]
  },
  {
   "cell_type": "markdown",
   "metadata": {
    "slideshow": {
     "slide_type": "fragment"
    }
   },
   "source": [
    "* Learning is also widely regarded as a key approach towards building general-purpose artificial intelligence. By developing learning algorithms, we create techniques that may one day enable us to create true AI."
   ]
  },
  {
   "cell_type": "markdown",
   "metadata": {
    "slideshow": {
     "slide_type": "fragment"
    }
   },
   "source": [
    "* Lastly, machine learning can offer insights into human intelligence. By studying artificial systems, we can also  make discoveries about the human mind."
   ]
  },
  {
   "cell_type": "markdown",
   "metadata": {
    "slideshow": {
     "slide_type": "slide"
    }
   },
   "source": [
    "\n",
    "# 1.2. Three Approaches to Machine Learning\n",
    "\n",
    "It is common to define three broad subfields of machine learning which implement three different approaches for creating learning algorithms."
   ]
  },
  {
   "cell_type": "markdown",
   "metadata": {
    "slideshow": {
     "slide_type": "slide"
    }
   },
   "source": [
    "## 1.2.1. Supervised Learning\n",
    "\n",
    "The most common type of machine learning is supervised learning. Most of our previous examples have been instances of this approach.\n",
    "\n",
    "<center><img width=70% src=\"https://kuleshov-group.github.io/aml-resources/img/tesla_data.png\"/></center>\n",
    "\n",
    "Supervised learning implements the following strategy:\n",
    "1. First, we collect a dataset of labeled training examples.\n",
    "2. We teach a model to output accurate predictions on this dataset.\n",
    "3. When the model sees new, similar data, it will also be accurate."
   ]
  },
  {
   "cell_type": "markdown",
   "metadata": {
    "slideshow": {
     "slide_type": "slide"
    }
   },
   "source": [
    "In addition to many examples introduced earlier, supervised learning is widely used for tasks such as:\n",
    "* __Classifying medical images__. Given a large datasets of images of malignant and benign tumors, we seek to develop a system that can identify tumors in new images.\n",
    "* __Translating between pairs of languages__. Here, supervision comes in the form of pairs of sentences that have the same meaning in two different languages.\n",
    "* __Detecting objects in a self-driving car__. We provide the model with examples of cars, pedestrians, etc."
   ]
  },
  {
   "cell_type": "markdown",
   "metadata": {
    "slideshow": {
     "slide_type": "slide"
    }
   },
   "source": [
    "## 1.2.2. Unsupervised Learning\n",
    "\n",
    "In unsupervised learning, we start with a dataset *that does not contain any labels*. Unsupervised learning seeks to discover interesting and useful patterns in this data, such as:\n",
    "* __Clusters of related datapoints__. For example, we might want to discover groups of similar customers from the logs of an e-commerce website.\n",
    "* __Outliers__, i.e., particularly unusual or interesting datapoints. For example, suspicious financial transactions.\n",
    "* __Denoised signals__. Recovering an image corrupted with white noise."
   ]
  },
  {
   "cell_type": "markdown",
   "metadata": {
    "slideshow": {
     "slide_type": "slide"
    }
   },
   "source": [
    "### An Example of Unsupervised Learning\n",
    "\n",
    "Let's look more closely at one common real-world application of unsupervised learning.\n",
    "Consider the following text, which contains at least four distinct topics. (image credit: [David Blei](https://www.cs.columbia.edu/~blei/papers/Blei2012.pdf))\n",
    "\n",
    "<center><img width=60% src=\"https://kuleshov-group.github.io/aml-resources/img/lda1.png\"/></center>\n",
    "\n",
    "The blue words pertain mostly to computers. The red words pertain to biology. The yellow words are related to genetics."
   ]
  },
  {
   "cell_type": "markdown",
   "metadata": {
    "slideshow": {
     "slide_type": "subslide"
    }
   },
   "source": [
    "It would be useful to be able to detect these topics automatically. However, in practice we rarely have access to text in which each word is labeled with a topic.\n",
    "\n",
    "<center><img width=80% src=\"https://kuleshov-group.github.io/aml-resources/img/lda3.png\"/></center>"
   ]
  },
  {
   "cell_type": "markdown",
   "metadata": {},
   "source": [
    "Unsupervised topic models automatically discover clusters of related words (these are the \"topics\", e.g., computers) and assign a topic to each word, as well as a set of topic proportions to each document.\n",
    "\n",
    "<center><img width=80% src=\"https://kuleshov-group.github.io/aml-resources/img/lda2.png\"/></center>"
   ]
  },
  {
   "cell_type": "markdown",
   "metadata": {
    "slideshow": {
     "slide_type": "subslide"
    }
   },
   "source": [
    "This kind of analysis can be useful for automating research in the social sciences, as well as for accelerating the analysis of financial documents. One of the most well-known topic modeling methods is called latent Dirichlet allocation."
   ]
  },
  {
   "cell_type": "markdown",
   "metadata": {
    "slideshow": {
     "slide_type": "slide"
    }
   },
   "source": [
    "### Other Applications of Unsupervised Learning\n",
    "\n",
    "Unsupervised learning has numerous other applications:\n",
    "* __Recommendation systems__. For example, the recommendation engine at Netflix is based on the unsupervised discovery of common viewing patterns across users.\n",
    "* __Anomaly detection__. The field of predictive maintenance seeks to identify factory components that are likely to fail soon.\n",
    "* __Signal denoising__. Extracting human speech from a noisy audio recording."
   ]
  },
  {
   "cell_type": "markdown",
   "metadata": {
    "slideshow": {
     "slide_type": "slide"
    }
   },
   "source": [
    "## 1.2.3. Reinforcement Learning\n",
    "\n",
    "In reinforcement learning, an agent is interacting with the world over time. We teach it good behavior by providing it with rewards.\n",
    "\n",
    "<center><img src=\"https://kuleshov-group.github.io/aml-resources/img/rl.png\"/></center>\n",
    "\n",
    "<sub><sup>Image by Lily Weng</sup></sub>"
   ]
  },
  {
   "cell_type": "markdown",
   "metadata": {
    "slideshow": {
     "slide_type": "subslide"
    }
   },
   "source": [
    "For example, we may deploy a robot in a real or simulated environment. If the robot executes bad actions (e.g., it breaks something), we provide it with a negative reward. If it performs a useful action (correctly picking up an object), we provide it with a positive reward. The learning algorithm learns over time to perform actions that lead to high reward.\n",
    "\n",
    "At first, reinforcement learning may appear to be similar to supervised learning. However, the key difference is that in reinforcement learning, an agent must explore the environment and try things on its own to collect rewards (this is called *exploration*); in supervised learning, all the supervision is provided to the agent upfront."
   ]
  },
  {
   "cell_type": "markdown",
   "metadata": {
    "slideshow": {
     "slide_type": "slide"
    }
   },
   "source": [
    "### Applications of Reinforcement Learning\n",
    "\n",
    "Applications of reinforcement learning include:\n",
    "* Creating __agents__ that play games such as Chess or Go.\n",
    "* __Industrial control__: automatically operating cooling systems in datacenters to use energy more efficiently.\n",
    "* __Generative design__ of new drug compounds."
   ]
  },
  {
   "cell_type": "markdown",
   "metadata": {
    "slideshow": {
     "slide_type": "slide"
    }
   },
   "source": [
    "## 1.2.4 Artificial Intelligence and Deep Learning\n",
    "\n",
    "Lastly, machine learning is often discussed in the context of two other related fields: artificial intelligence and deep learning. Their relationship is best described by the Venn diagram below.\n",
    "<center><img width=\"50%\" src=\"https://kuleshov-group.github.io/aml-resources/img/ai_ml_dl.png\"/></center>\n",
    "\n",
    "<sub><sup>Image [source](https://towardsdatascience.com/understanding-the-difference-between-ai-ml-and-dl-cceb63252a6c).</sup></sub>\n",
    "\n",
    "* The field of AI is concerned with building machines that exhibit human-level intelligence. ML enables machines to learn from experience, which is a useful approach towards this goal. Thus, ML is a subfield of AI.\n",
    "* Deep learning is a field that studies learning algorithms called neural networks that are loosely inspired by the brain. It is a subfield of machine learning."
   ]
  },
  {
   "cell_type": "markdown",
   "metadata": {
    "slideshow": {
     "slide_type": "slide"
    }
   },
   "source": [
    "\n",
    "# 1.3. Logistics and Course Information.\n",
    "\n",
    "We conclude the lecture with the logistical aspects of the course."
   ]
  },
  {
   "cell_type": "markdown",
   "metadata": {
    "slideshow": {
     "slide_type": "slide"
    }
   },
   "source": [
    "## 1.3.1. What Is the Course About?\n",
    "\n",
    "This course studies the foundations and applications of machine learning.\n",
    "* __Algorithms__: We cover a *broad* set of ML algorithms: linear models, boosted decision trees, neural networks, SVMs, etc.\n",
    "* __Foundations__: We explain why they work using *math*. We cover maximum likelihood, generalization, regularization, etc.\n",
    "* __Implementation__: We teach how to *implement* algorithms from scratch using `numpy` or `sklearn`\n",
    "\n",
    "We also cover many practical aspects of applying machine learning."
   ]
  },
  {
   "cell_type": "markdown",
   "metadata": {
    "slideshow": {
     "slide_type": "subslide"
    }
   },
   "source": [
    "Some of the most important sets of topics we will cover include:\n",
    "* __Basics of Supervised Learning__: Regression, classification, overfitting, regularization, generative vs. discriminative models\n",
    "* __Unsupervised Learning__: Clustering, dimensionality reduction, etc.\n",
    "* __Advanced Supervised Learning__: Support vector machines, kernel methods, decision trees, boosting, deep learning.\n",
    "* __Applying ML__: Overfitting, error analysis, learning curves, etc."
   ]
  },
  {
   "cell_type": "markdown",
   "metadata": {
    "slideshow": {
     "slide_type": "slide"
    }
   },
   "source": [
    "The format of this course will be that of the \"reverse classroom\". Pre-recorded lecture videos will be made available online ahead of time. You should watch them ahead of each weekly lecture. In-class discussions will focus on answering student questions, going over homework problems, doing tutorials."
   ]
  },
  {
   "cell_type": "markdown",
   "metadata": {
    "slideshow": {
     "slide_type": "slide"
    }
   },
   "source": [
    "## 1.3.2. Prerequisites: Is This Course For You?\n",
    "\n",
    "The main requirements for this course are:\n",
    "* __Programming__: At least 1 year of experience, preferably in Python.\n",
    "* __Linear Algebra__: College-level familiarity with matrix operations, eigenvectors, the SVD, vector and matrix norms, etc.\n",
    "* __Probability__. College-level understanding of probability distributions, random variables, Bayes' rule, etc.\n",
    "\n",
    "This course does not assume any prior ML experience."
   ]
  },
  {
   "cell_type": "markdown",
   "metadata": {},
   "source": [
    "## 1.3.3. Course Materials\n",
    "\n",
    "The slides for each lecture are available online on [Github](https://github.com/kuleshov/cornell-cs5785-2023-applied-ml).\n",
    "\n",
    "Detailed lecture notes are available [online](https://kuleshov-group.github.io/aml-book/intro.html) as an HTML website. \n",
    "\n",
    "Lecture videos are available on [Youtube](https://www.youtube.com/playlist?list=PL2UML_KCiC0UlY7iCQDSiGDMovaupqc83). These videos were originally recorded for the 2020 edition of the course."
   ]
  },
  {
   "cell_type": "markdown",
   "metadata": {
    "slideshow": {
     "slide_type": "slide"
    }
   },
   "source": [
    "### Executable Course Materials\n",
    "\n",
    "The core materials for this course (including the slides!) are created using Jupyter notebooks.\n",
    "* We are going to embed an execute code directly in the slides and use that to demonstrate algorithms.\n",
    "* These slides can be downloaded locally and all the code can be reproduced.\n",
    "\n",
    "Below is an example, where use some standard Python ML libraries to solve a digit classification task."
   ]
  },
  {
   "cell_type": "code",
   "execution_count": 29,
   "metadata": {
    "slideshow": {
     "slide_type": "fragment"
    }
   },
   "outputs": [],
   "source": [
    "import numpy as np\n",
    "import matplotlib.pyplot as plt\n",
    "from sklearn import datasets, neural_network\n",
    "plt.rcParams['figure.figsize'] = [12, 4]"
   ]
  },
  {
   "cell_type": "markdown",
   "metadata": {
    "slideshow": {
     "slide_type": "subslide"
    }
   },
   "source": [
    "We can use these libraries to load a simple datasets of handwritten digits."
   ]
  },
  {
   "cell_type": "code",
   "execution_count": 7,
   "metadata": {
    "slideshow": {
     "slide_type": "fragment"
    }
   },
   "outputs": [
    {
     "data": {
      "image/png": "[encoded data removed]",
      "text/plain": [
       "<Figure size 864x288 with 4 Axes>"
      ]
     },
     "metadata": {
      "needs_background": "light"
     },
     "output_type": "display_data"
    }
   ],
   "source": [
    "# https://scikit-learn.org/stable/auto_examples/classification/plot_digits_classification.html\n",
    "# load the digits dataset\n",
    "digits = datasets.load_digits()\n",
    "\n",
    "# The data that we are interested in is made of 8x8 images of digits, let's\n",
    "# have a look at the first 4 images.\n",
    "_, axes = plt.subplots(1, 4)\n",
    "images_and_labels = list(zip(digits.images, digits.target))\n",
    "for ax, (image, label) in zip(axes, images_and_labels[:4]):\n",
    "    ax.set_axis_off()\n",
    "    ax.imshow(image, cmap=plt.cm.gray_r, interpolation='nearest')\n",
    "    ax.set_title('Label: %i' % label)"
   ]
  },
  {
   "cell_type": "markdown",
   "metadata": {
    "slideshow": {
     "slide_type": "subslide"
    }
   },
   "source": [
    "We can now load and train this algorithm inside the slides."
   ]
  },
  {
   "cell_type": "code",
   "execution_count": 30,
   "metadata": {
    "slideshow": {
     "slide_type": "fragment"
    }
   },
   "outputs": [],
   "source": [
    "np.random.seed(0)\n",
    "# To apply a classifier on this data, we need to flatten the image, to\n",
    "# turn the data in a (samples, feature) matrix:\n",
    "data = digits.images.reshape((len(digits.images), -1))\n",
    "\n",
    "# create a small neural network classifier\n",
    "from sklearn.neural_network import MLPClassifier\n",
    "classifier = MLPClassifier(alpha=1e-3)\n",
    "\n",
    "# Split data into train and test subsets\n",
    "X_train, X_test, y_train, y_test = sk.model_selection.train_test_split(data, digits.target, test_size=0.5, shuffle=False)\n",
    "\n",
    "# We learn the digits on the first half of the digits\n",
    "classifier.fit(X_train, y_train)\n",
    "\n",
    "# Now predict the value of the digit on the second half:\n",
    "predicted = classifier.predict(X_test)"
   ]
  },
  {
   "cell_type": "markdown",
   "metadata": {
    "slideshow": {
     "slide_type": "subslide"
    }
   },
   "source": [
    "We can now visualize the results."
   ]
  },
  {
   "cell_type": "code",
   "execution_count": 31,
   "metadata": {
    "slideshow": {
     "slide_type": "fragment"
    }
   },
   "outputs": [
    {
     "data": {
      "image/png": "[encoded data removed]",
      "text/plain": [
       "<Figure size 864x288 with 4 Axes>"
      ]
     },
     "metadata": {
      "needs_background": "light"
     },
     "output_type": "display_data"
    }
   ],
   "source": [
    "_, axes = plt.subplots(1, 4)\n",
    "images_and_predictions = list(zip(digits.images[n_samples // 2:], predicted))\n",
    "for ax, (image, prediction) in zip(axes, images_and_predictions[:4]):\n",
    "    ax.imshow(image, cmap=plt.cm.gray_r, interpolation='nearest')\n",
    "    ax.set_title('Prediction: %i' % prediction)"
   ]
  }
 ],
 "metadata": {
  "accelerator": "GPU",
  "celltoolbar": "Slideshow",
  "colab": {
   "collapsed_sections": [],
   "name": "neural-ode.ipynb",
   "provenance": []
  },
  "kernelspec": {
   "display_name": "Python 3",
   "language": "python",
   "name": "python3"
  },
  "language_info": {
   "codemirror_mode": {
    "name": "ipython",
    "version": 3
   },
   "file_extension": ".py",
   "mimetype": "text/x-python",
   "name": "python",
   "nbconvert_exporter": "python",
   "pygments_lexer": "ipython3",
   "version": "3.6.7"
  },
  "rise": {
   "controlsTutorial": false,
   "height": 900,
   "help": false,
   "margin": 0,
   "maxScale": 2,
   "minScale": 0.2,
   "progress": true,
   "scroll": true,
   "theme": "simple",
   "width": 1200
  },
  "vscode": {
   "interpreter": {
    "hash": "ccfaef849455cb82dfcf38b07a416fc7e0fa5490bd7d0cd7d98b2a6b1749e9b9"
   }
  }
 },
 "nbformat": 4,
 "nbformat_minor": 4
}
